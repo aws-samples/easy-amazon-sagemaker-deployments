{
 "cells": [
  {
   "cell_type": "code",
   "execution_count": 2,
   "id": "b3685e1d-9d66-4b38-867c-987f7b1af699",
   "metadata": {
    "scrolled": true,
    "tags": []
   },
   "outputs": [
    {
     "name": "stdout",
     "output_type": "stream",
     "text": [
      "Note: you may need to restart the kernel to use updated packages.\n",
      "Collecting ezsmdeploy==2.0.3.dev4\n",
      "  Obtaining dependency information for ezsmdeploy==2.0.3.dev4 from https://files.pythonhosted.org/packages/1d/ea/70f8ecc81cfe5ef503c975bce014866df7a44a7f9a84ffd8dd0280e115da/ezsmdeploy-2.0.3.dev4-py3-none-any.whl.metadata\n",
      "  Using cached ezsmdeploy-2.0.3.dev4-py3-none-any.whl.metadata (22 kB)\n",
      "Collecting sagemaker==2.196.0 (from ezsmdeploy==2.0.3.dev4)\n",
      "  Using cached sagemaker-2.196.0-py2.py3-none-any.whl\n",
      "Requirement already satisfied: yaspin==0.16.0 in /home/ec2-user/anaconda3/envs/python3/lib/python3.10/site-packages (from ezsmdeploy==2.0.3.dev4) (0.16.0)\n",
      "Requirement already satisfied: shortuuid==1.0.1 in /home/ec2-user/anaconda3/envs/python3/lib/python3.10/site-packages (from ezsmdeploy==2.0.3.dev4) (1.0.1)\n",
      "Requirement already satisfied: sagemaker-studio-image-build==0.5.0 in /home/ec2-user/anaconda3/envs/python3/lib/python3.10/site-packages (from ezsmdeploy==2.0.3.dev4) (0.5.0)\n",
      "Requirement already satisfied: boto3>=1.14.12 in /home/ec2-user/anaconda3/envs/python3/lib/python3.10/site-packages (from ezsmdeploy==2.0.3.dev4) (1.28.41)\n",
      "Requirement already satisfied: attrs<24,>=23.1.0 in /home/ec2-user/anaconda3/envs/python3/lib/python3.10/site-packages (from sagemaker==2.196.0->ezsmdeploy==2.0.3.dev4) (23.1.0)\n",
      "Requirement already satisfied: cloudpickle==2.2.1 in /home/ec2-user/anaconda3/envs/python3/lib/python3.10/site-packages (from sagemaker==2.196.0->ezsmdeploy==2.0.3.dev4) (2.2.1)\n",
      "Requirement already satisfied: google-pasta in /home/ec2-user/anaconda3/envs/python3/lib/python3.10/site-packages (from sagemaker==2.196.0->ezsmdeploy==2.0.3.dev4) (0.2.0)\n",
      "Requirement already satisfied: numpy<2.0,>=1.9.0 in /home/ec2-user/anaconda3/envs/python3/lib/python3.10/site-packages (from sagemaker==2.196.0->ezsmdeploy==2.0.3.dev4) (1.22.3)\n",
      "Requirement already satisfied: protobuf<5.0,>=3.12 in /home/ec2-user/anaconda3/envs/python3/lib/python3.10/site-packages (from sagemaker==2.196.0->ezsmdeploy==2.0.3.dev4) (4.24.2)\n",
      "Requirement already satisfied: smdebug-rulesconfig==1.0.1 in /home/ec2-user/anaconda3/envs/python3/lib/python3.10/site-packages (from sagemaker==2.196.0->ezsmdeploy==2.0.3.dev4) (1.0.1)\n",
      "Requirement already satisfied: importlib-metadata<7.0,>=1.4.0 in /home/ec2-user/anaconda3/envs/python3/lib/python3.10/site-packages (from sagemaker==2.196.0->ezsmdeploy==2.0.3.dev4) (6.8.0)\n",
      "Requirement already satisfied: packaging>=20.0 in /home/ec2-user/anaconda3/envs/python3/lib/python3.10/site-packages (from sagemaker==2.196.0->ezsmdeploy==2.0.3.dev4) (21.3)\n",
      "Requirement already satisfied: pandas in /home/ec2-user/anaconda3/envs/python3/lib/python3.10/site-packages (from sagemaker==2.196.0->ezsmdeploy==2.0.3.dev4) (2.0.3)\n",
      "Requirement already satisfied: pathos in /home/ec2-user/anaconda3/envs/python3/lib/python3.10/site-packages (from sagemaker==2.196.0->ezsmdeploy==2.0.3.dev4) (0.3.1)\n",
      "Requirement already satisfied: schema in /home/ec2-user/anaconda3/envs/python3/lib/python3.10/site-packages (from sagemaker==2.196.0->ezsmdeploy==2.0.3.dev4) (0.7.5)\n",
      "Requirement already satisfied: PyYAML~=6.0 in /home/ec2-user/anaconda3/envs/python3/lib/python3.10/site-packages (from sagemaker==2.196.0->ezsmdeploy==2.0.3.dev4) (6.0)\n",
      "Requirement already satisfied: jsonschema in /home/ec2-user/anaconda3/envs/python3/lib/python3.10/site-packages (from sagemaker==2.196.0->ezsmdeploy==2.0.3.dev4) (4.18.4)\n",
      "Requirement already satisfied: platformdirs in /home/ec2-user/anaconda3/envs/python3/lib/python3.10/site-packages (from sagemaker==2.196.0->ezsmdeploy==2.0.3.dev4) (3.9.1)\n",
      "Requirement already satisfied: tblib==1.7.0 in /home/ec2-user/anaconda3/envs/python3/lib/python3.10/site-packages (from sagemaker==2.196.0->ezsmdeploy==2.0.3.dev4) (1.7.0)\n",
      "Requirement already satisfied: botocore<1.32.0,>=1.31.41 in /home/ec2-user/anaconda3/envs/python3/lib/python3.10/site-packages (from boto3>=1.14.12->ezsmdeploy==2.0.3.dev4) (1.31.41)\n",
      "Requirement already satisfied: jmespath<2.0.0,>=0.7.1 in /home/ec2-user/anaconda3/envs/python3/lib/python3.10/site-packages (from boto3>=1.14.12->ezsmdeploy==2.0.3.dev4) (1.0.1)\n",
      "Requirement already satisfied: s3transfer<0.7.0,>=0.6.0 in /home/ec2-user/anaconda3/envs/python3/lib/python3.10/site-packages (from boto3>=1.14.12->ezsmdeploy==2.0.3.dev4) (0.6.1)\n",
      "Requirement already satisfied: python-dateutil<3.0.0,>=2.1 in /home/ec2-user/anaconda3/envs/python3/lib/python3.10/site-packages (from botocore<1.32.0,>=1.31.41->boto3>=1.14.12->ezsmdeploy==2.0.3.dev4) (2.8.2)\n",
      "Requirement already satisfied: urllib3<1.27,>=1.25.4 in /home/ec2-user/anaconda3/envs/python3/lib/python3.10/site-packages (from botocore<1.32.0,>=1.31.41->boto3>=1.14.12->ezsmdeploy==2.0.3.dev4) (1.26.14)\n",
      "Requirement already satisfied: zipp>=0.5 in /home/ec2-user/anaconda3/envs/python3/lib/python3.10/site-packages (from importlib-metadata<7.0,>=1.4.0->sagemaker==2.196.0->ezsmdeploy==2.0.3.dev4) (3.16.2)\n",
      "Requirement already satisfied: pyparsing!=3.0.5,>=2.0.2 in /home/ec2-user/anaconda3/envs/python3/lib/python3.10/site-packages (from packaging>=20.0->sagemaker==2.196.0->ezsmdeploy==2.0.3.dev4) (3.0.9)\n",
      "Requirement already satisfied: six in /home/ec2-user/anaconda3/envs/python3/lib/python3.10/site-packages (from google-pasta->sagemaker==2.196.0->ezsmdeploy==2.0.3.dev4) (1.16.0)\n",
      "Requirement already satisfied: jsonschema-specifications>=2023.03.6 in /home/ec2-user/anaconda3/envs/python3/lib/python3.10/site-packages (from jsonschema->sagemaker==2.196.0->ezsmdeploy==2.0.3.dev4) (2023.7.1)\n",
      "Requirement already satisfied: referencing>=0.28.4 in /home/ec2-user/anaconda3/envs/python3/lib/python3.10/site-packages (from jsonschema->sagemaker==2.196.0->ezsmdeploy==2.0.3.dev4) (0.30.0)\n",
      "Requirement already satisfied: rpds-py>=0.7.1 in /home/ec2-user/anaconda3/envs/python3/lib/python3.10/site-packages (from jsonschema->sagemaker==2.196.0->ezsmdeploy==2.0.3.dev4) (0.9.2)\n",
      "Requirement already satisfied: pytz>=2020.1 in /home/ec2-user/anaconda3/envs/python3/lib/python3.10/site-packages (from pandas->sagemaker==2.196.0->ezsmdeploy==2.0.3.dev4) (2023.3)\n",
      "Requirement already satisfied: tzdata>=2022.1 in /home/ec2-user/anaconda3/envs/python3/lib/python3.10/site-packages (from pandas->sagemaker==2.196.0->ezsmdeploy==2.0.3.dev4) (2023.3)\n",
      "Requirement already satisfied: ppft>=1.7.6.7 in /home/ec2-user/anaconda3/envs/python3/lib/python3.10/site-packages (from pathos->sagemaker==2.196.0->ezsmdeploy==2.0.3.dev4) (1.7.6.7)\n",
      "Requirement already satisfied: dill>=0.3.7 in /home/ec2-user/anaconda3/envs/python3/lib/python3.10/site-packages (from pathos->sagemaker==2.196.0->ezsmdeploy==2.0.3.dev4) (0.3.7)\n",
      "Requirement already satisfied: pox>=0.3.3 in /home/ec2-user/anaconda3/envs/python3/lib/python3.10/site-packages (from pathos->sagemaker==2.196.0->ezsmdeploy==2.0.3.dev4) (0.3.3)\n",
      "Requirement already satisfied: multiprocess>=0.70.15 in /home/ec2-user/anaconda3/envs/python3/lib/python3.10/site-packages (from pathos->sagemaker==2.196.0->ezsmdeploy==2.0.3.dev4) (0.70.15)\n",
      "Requirement already satisfied: contextlib2>=0.5.5 in /home/ec2-user/anaconda3/envs/python3/lib/python3.10/site-packages (from schema->sagemaker==2.196.0->ezsmdeploy==2.0.3.dev4) (21.6.0)\n",
      "Using cached ezsmdeploy-2.0.3.dev4-py3-none-any.whl (31 kB)\n",
      "Installing collected packages: sagemaker, ezsmdeploy\n",
      "  Attempting uninstall: sagemaker\n",
      "    Found existing installation: sagemaker 2.173.0\n",
      "    Uninstalling sagemaker-2.173.0:\n",
      "      Successfully uninstalled sagemaker-2.173.0\n",
      "Successfully installed ezsmdeploy-2.0.3.dev4 sagemaker-2.196.0\n",
      "Note: you may need to restart the kernel to use updated packages.\n"
     ]
    }
   ],
   "source": [
    "%pip uninstall -y ezsmdeploy --quiet\n",
    "# !pip install --upgrade pip\n",
    "%pip install -U ezsmdeploy==2.0.4"
   ]
  },
  {
   "cell_type": "code",
   "execution_count": 3,
   "id": "39588b3c-d7c8-41a9-909a-084574445f31",
   "metadata": {
    "tags": []
   },
   "outputs": [
    {
     "name": "stdout",
     "output_type": "stream",
     "text": [
      "sagemaker.config INFO - Not applying SDK defaults from location: /etc/xdg/sagemaker/config.yaml\n",
      "sagemaker.config INFO - Not applying SDK defaults from location: /home/ec2-user/.config/sagemaker/config.yaml\n"
     ]
    }
   ],
   "source": [
    "import ezsmdeploy"
   ]
  },
  {
   "cell_type": "code",
   "execution_count": 4,
   "id": "e4e3f085-642e-4035-abcb-7fe4cda63a79",
   "metadata": {
    "tags": []
   },
   "outputs": [
    {
     "name": "stdout",
     "output_type": "stream",
     "text": [
      "sagemaker.config INFO - Not applying SDK defaults from location: /etc/xdg/sagemaker/config.yaml\n",
      "sagemaker.config INFO - Not applying SDK defaults from location: /home/ec2-user/.config/sagemaker/config.yaml\n",
      "\u001b[32m●∙∙\u001b[0m \u001b[Ksagemaker.config INFO - Not applying SDK defaults from location: /etc/xdg/sagemaker/config.yaml\n",
      "sagemaker.config INFO - Not applying SDK defaults from location: /home/ec2-user/.config/sagemaker/config.yaml\n",
      "\u001b[K0:00:00.312452 | created model(s). Now deploying on ml.g5.2xlarge\n",
      "\u001b[K0:11:34.433212 | deployed model----!\n",
      "\u001b[K\u001b[32m0:11:34.433269 | Done! ✔\u001b[0m \n"
     ]
    }
   ],
   "source": [
    "ezonsm = ezsmdeploy.Deploy(model=\"meta-textgeneration-llama-2-7b-f\",\n",
    "                           foundation_model=True)"
   ]
  },
  {
   "cell_type": "code",
   "execution_count": 5,
   "id": "5758b8b0-98d3-4899-9bfa-982d98584460",
   "metadata": {
    "tags": []
   },
   "outputs": [],
   "source": [
    "payload = {\n",
    "    \"inputs\":  \n",
    "      [\n",
    "        [\n",
    "         {\"role\": \"system\", \"content\": \"Always answer with Haiku\"},\n",
    "         {\"role\": \"user\", \"content\": \"I am going to Paris, what should I see?\"},\n",
    "        ]   \n",
    "      ],\n",
    "   \"parameters\":{\"max_new_tokens\":256, \"top_p\":0.9, \"temperature\":0.6}\n",
    "}"
   ]
  },
  {
   "cell_type": "code",
   "execution_count": 6,
   "id": "1b2a40c0-7b4f-4ab9-a1a8-c6137c8e3e76",
   "metadata": {
    "tags": []
   },
   "outputs": [
    {
     "data": {
      "text/plain": [
       "[{'generation': {'role': 'assistant',\n",
       "   'content': ' Eiffel Tower high\\nLove locks on Seine riverbank\\nCity of lights shine'}}]"
      ]
     },
     "execution_count": 6,
     "metadata": {},
     "output_type": "execute_result"
    }
   ],
   "source": [
    "ezonsm.predictor.predict(payload, custom_attributes=\"accept_eula=true\")"
   ]
  },
  {
   "cell_type": "code",
   "execution_count": 7,
   "id": "00f6e434-971a-439b-9531-6a5de976b27e",
   "metadata": {
    "tags": []
   },
   "outputs": [],
   "source": [
    "ezonsm.predictor.delete_endpoint()"
   ]
  },
  {
   "cell_type": "code",
   "execution_count": null,
   "id": "f51d731e-c37a-49ed-bcf8-8e0d3313d45b",
   "metadata": {},
   "outputs": [],
   "source": []
  }
 ],
 "metadata": {
  "kernelspec": {
   "display_name": "conda_python3",
   "language": "python",
   "name": "conda_python3"
  },
  "language_info": {
   "codemirror_mode": {
    "name": "ipython",
    "version": 3
   },
   "file_extension": ".py",
   "mimetype": "text/x-python",
   "name": "python",
   "nbconvert_exporter": "python",
   "pygments_lexer": "ipython3",
   "version": "3.10.12"
  }
 },
 "nbformat": 4,
 "nbformat_minor": 5
}
