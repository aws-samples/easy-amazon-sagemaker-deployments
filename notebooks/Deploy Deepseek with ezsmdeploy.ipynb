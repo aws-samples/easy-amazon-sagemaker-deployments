{
 "cells": [
  {
   "cell_type": "markdown",
   "metadata": {},
   "source": [
    "## Deploy Deepseek and other Hub model with ezsmdeploy to SageMaker and Bedrock\n",
    "\n",
    "Welcome to EZSMdeploy! You can use EZSMdeploy to deploy many Machine Learning models on AWS. Now this also includes deploying custom models to Amazon Bedrock.\n",
    "\n",
    "Here, we show how to deploy the state-of-the-art pre-trained models like Deepseek from Hugging Face. Let's go!"
   ]
  },
  {
   "cell_type": "code",
   "execution_count": null,
   "metadata": {
    "scrolled": true,
    "tags": []
   },
   "outputs": [],
   "source": [
    "%pip install --upgrade ezsmdeploy"
   ]
  },
  {
   "cell_type": "markdown",
   "metadata": {},
   "source": [
    "### Note: you may need to restart the kernel to use updated packages."
   ]
  },
  {
   "cell_type": "code",
   "execution_count": null,
   "metadata": {},
   "outputs": [],
   "source": [
    "import sagemaker\n",
    "sagemaker.__version__\n",
    "\n",
    "!pip show ezsmdeploy\n",
    "import ezsmdeploy"
   ]
  },
  {
   "cell_type": "markdown",
   "metadata": {},
   "source": [
    "## Deploy Deepseek models to SageMaker"
   ]
  },
  {
   "cell_type": "code",
   "execution_count": null,
   "metadata": {
    "tags": []
   },
   "outputs": [],
   "source": [
    "ezonsm = ezsmdeploy.Deploy(model = \"deepseek-ai/DeepSeek-R1-Distill-Qwen-7B\",\n",
    "                           huggingface_model=True,\n",
    "                           foundation_model=True,\n",
    "                           instance_type='ml.g5.8xlarge'\n",
    "                           )"
   ]
  },
  {
   "cell_type": "code",
   "execution_count": null,
   "metadata": {},
   "outputs": [],
   "source": [
    "system = \"\"\"Your role as an assistant involves answering questions from a user found after <human>: ... Your answer must be included after <bot>: ...\"\"\""
   ]
  },
  {
   "cell_type": "code",
   "execution_count": null,
   "metadata": {
    "tags": []
   },
   "outputs": [],
   "source": [
    "ezonsm.predictor.predict({\"inputs\":system + \"\"\"<human>: The capital of France is ?\\n\"\"\",\n",
    "                         \"parameters\":{\"max_new_tokens\":64}\n",
    "                         })"
   ]
  },
  {
   "cell_type": "code",
   "execution_count": null,
   "metadata": {},
   "outputs": [],
   "source": [
    "ezonsm.chat()"
   ]
  },
  {
   "cell_type": "code",
   "execution_count": null,
   "metadata": {
    "tags": []
   },
   "outputs": [],
   "source": [
    "ezonsm.predictor.delete_endpoint()"
   ]
  },
  {
   "cell_type": "markdown",
   "metadata": {},
   "source": [
    "## Deploy Deepseek models to Amazon Bedrock"
   ]
  },
  {
   "cell_type": "code",
   "execution_count": null,
   "metadata": {
    "scrolled": true
   },
   "outputs": [],
   "source": [
    "import ezsmdeploy\n",
    "ezsmdeploy.Import(model=\"s3://sagemaker-us-east-1-716845917484/br-b5fko7vzhrudrxapv5gsbp/\")"
   ]
  },
  {
   "cell_type": "markdown",
   "metadata": {},
   "source": [
    "### Tested models for Amazon Bedrock CMI\n",
    "- deepseek-ai/DeepSeek-R1-Distill-Llama-8B - PASS\n",
    "- allenai/Llama-3.1-Tulu-3-8B - PASS\n",
    "- unsloth/DeepSeek-R1-Distill-Llama-8B-GGUF - PASS\n",
    "- meta-llama/Llama-Guard-3-8B - PASS\n",
    "- unsloth/DeepSeek-R1-Distill-Llama-8B-unsloth-bnb-4bit - FAIL\n",
    "- unsloth/llama-3-8b-bnb-4bit - FAIL"
   ]
  },
  {
   "cell_type": "code",
   "execution_count": null,
   "metadata": {},
   "outputs": [],
   "source": []
  }
 ],
 "metadata": {
  "kernelspec": {
   "display_name": "Python 3 (ipykernel)",
   "language": "python",
   "name": "python3"
  },
  "language_info": {
   "codemirror_mode": {
    "name": "ipython",
    "version": 3
   },
   "file_extension": ".py",
   "mimetype": "text/x-python",
   "name": "python",
   "nbconvert_exporter": "python",
   "pygments_lexer": "ipython3",
   "version": "3.11.10"
  }
 },
 "nbformat": 4,
 "nbformat_minor": 4
}
